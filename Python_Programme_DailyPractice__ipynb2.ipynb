{
  "nbformat": 4,
  "nbformat_minor": 0,
  "metadata": {
    "colab": {
      "provenance": [],
      "authorship_tag": "ABX9TyO86FHHKQ1ZLTUPb/pl3Nh6",
      "include_colab_link": true
    },
    "kernelspec": {
      "name": "python3",
      "display_name": "Python 3"
    },
    "language_info": {
      "name": "python"
    }
  },
  "cells": [
    {
      "cell_type": "markdown",
      "metadata": {
        "id": "view-in-github",
        "colab_type": "text"
      },
      "source": [
        "<a href=\"https://colab.research.google.com/github/Saikiran4545/Python-Allprogramme-Practice-/blob/main/Python_Programme_DailyPractice__ipynb2.ipynb\" target=\"_parent\"><img src=\"https://colab.research.google.com/assets/colab-badge.svg\" alt=\"Open In Colab\"/></a>"
      ]
    },
    {
      "cell_type": "code",
      "execution_count": 4,
      "metadata": {
        "colab": {
          "base_uri": "https://localhost:8080/"
        },
        "id": "0yFSuIBU6DYE",
        "outputId": "43911cf7-487a-4036-95b0-629c553689ea"
      },
      "outputs": [
        {
          "output_type": "stream",
          "name": "stdout",
          "text": [
            "number isnt armstrong number\n",
            "number isnt armstrong number\n",
            "Number is armstrong number\n"
          ]
        }
      ],
      "source": [
        "#Programme 1\n",
        "#Python Program to check Armstrong Number\n",
        "n= 153\n",
        "sum = 0\n",
        "order = len(str(n))\n",
        "copy_n = n\n",
        "while (n>0):\n",
        "  digit = n%10\n",
        "  sum += digit**order\n",
        "  n = n//10\n",
        "  if (sum==copy_n):\n",
        "    print(\"Number is armstrong number\")\n",
        "  else:\n",
        "    print(\"number isnt armstrong number\")  \n"
      ]
    },
    {
      "cell_type": "code",
      "source": [
        "#Programme 2\n",
        "#Python Program for Program to find area of a circle\n",
        "import math\n",
        "radius = float(input(\"Enter the radius of the circle is : \"))\n",
        "Area = math.pi*radius*radius\n",
        "print(\"Area of the circle is: \", Area)"
      ],
      "metadata": {
        "colab": {
          "base_uri": "https://localhost:8080/"
        },
        "id": "N-fGiQLKPHLc",
        "outputId": "167c874f-dccf-482e-d0ba-bf2620dfdf70"
      },
      "execution_count": 6,
      "outputs": [
        {
          "output_type": "stream",
          "name": "stdout",
          "text": [
            "Enter the radius of the circle is : 64\n",
            "Area of the circle is:  12867.963509103793\n"
          ]
        }
      ]
    },
    {
      "cell_type": "code",
      "source": [
        "#Programme 3\n",
        "#Python program to print all Prime numbers in an Interval\n",
        "lower = int(input(\"Enter lower number : \"))\n",
        "upper = int(input(\"Enter upper number : \"))\n",
        "for num in range(lower,upper+1):\n",
        "  if (num>1):\n",
        "    for i in range(2,num):\n",
        "      if((num%i)==0):\n",
        "        break;\n",
        "    else:\n",
        "     print(num)     "
      ],
      "metadata": {
        "colab": {
          "base_uri": "https://localhost:8080/"
        },
        "id": "JFjcYqN_QxZe",
        "outputId": "c2fc7a46-e1b0-41e2-9f5b-ededba67f1f8"
      },
      "execution_count": 7,
      "outputs": [
        {
          "output_type": "stream",
          "name": "stdout",
          "text": [
            "Enter lower number : 10\n",
            "Enter upper number : 100\n",
            "11\n",
            "13\n",
            "17\n",
            "19\n",
            "23\n",
            "29\n",
            "31\n",
            "37\n",
            "41\n",
            "43\n",
            "47\n",
            "53\n",
            "59\n",
            "61\n",
            "67\n",
            "71\n",
            "73\n",
            "79\n",
            "83\n",
            "89\n",
            "97\n"
          ]
        }
      ]
    },
    {
      "cell_type": "code",
      "source": [
        "#programme 4\n",
        "#Python program to check whether a number is Prime or not\n",
        "n= int(input(\"Enter number : \"))\n",
        "if num <=1:\n",
        "  print(\"number is not a prime\")\n",
        "else:\n",
        "   for i in range(2,num+1):\n",
        "    if ((num%i==0)):\n",
        "     print(\"num is not prime\",num)\n",
        "   else:\n",
        "    print(\"num is prime\",num)    \n",
        "\n"
      ],
      "metadata": {
        "colab": {
          "base_uri": "https://localhost:8080/"
        },
        "id": "9Dcc9i3BWS8c",
        "outputId": "e67eb657-6db0-4efc-b848-39523a2ab8ba"
      },
      "execution_count": 11,
      "outputs": [
        {
          "output_type": "stream",
          "name": "stdout",
          "text": [
            "Enter number : 10\n",
            "num is not prime 100\n",
            "num is not prime 100\n",
            "num is not prime 100\n",
            "num is not prime 100\n",
            "num is not prime 100\n",
            "num is not prime 100\n",
            "num is not prime 100\n",
            "num is not prime 100\n",
            "num is prime 100\n"
          ]
        }
      ]
    },
    {
      "cell_type": "code",
      "source": [
        "#programme 5\n",
        "#Python Program for n-th Fibonacci number\n",
        "n= int(input(\"Enter number : \"))\n",
        "def fib(n):\n",
        "  if (n<=1):\n",
        "    return n\n",
        "  else:\n",
        "      return fib(n-1)+fib(n-2)\n",
        "print(\"Fibonassi number is \",fib(n))      "
      ],
      "metadata": {
        "colab": {
          "base_uri": "https://localhost:8080/"
        },
        "id": "m4Jk54pEmKGq",
        "outputId": "c469f4d5-b779-4780-f741-2a59f99bfcbf"
      },
      "execution_count": 2,
      "outputs": [
        {
          "output_type": "stream",
          "name": "stdout",
          "text": [
            "Enter number : 6\n",
            "Fibonassi number is  8\n"
          ]
        }
      ]
    }
  ]
}