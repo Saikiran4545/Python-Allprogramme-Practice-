{
  "nbformat": 4,
  "nbformat_minor": 0,
  "metadata": {
    "colab": {
      "provenance": [],
      "authorship_tag": "ABX9TyOmfmNrgLVoujkfcv4YOI+S",
      "include_colab_link": true
    },
    "kernelspec": {
      "name": "python3",
      "display_name": "Python 3"
    },
    "language_info": {
      "name": "python"
    }
  },
  "cells": [
    {
      "cell_type": "markdown",
      "metadata": {
        "id": "view-in-github",
        "colab_type": "text"
      },
      "source": [
        "<a href=\"https://colab.research.google.com/github/Saikiran4545/Python-Allprogramme-Practice-/blob/main/Python_Programme_DailyPractice_1.ipynb\" target=\"_parent\"><img src=\"https://colab.research.google.com/assets/colab-badge.svg\" alt=\"Open In Colab\"/></a>"
      ]
    },
    {
      "cell_type": "code",
      "execution_count": 1,
      "metadata": {
        "colab": {
          "base_uri": "https://localhost:8080/"
        },
        "id": "LwH4FZXdpZhS",
        "outputId": "11ddd30f-a22d-49ba-974e-14de3a09c3b3"
      },
      "outputs": [
        {
          "output_type": "stream",
          "name": "stdout",
          "text": [
            "70\n"
          ]
        }
      ],
      "source": [
        "# Programme No :-1\n",
        "#Python program to add two numbers\n",
        "a= 20\n",
        "b = 50\n",
        "c = a+b\n",
        "print (c)"
      ]
    },
    {
      "cell_type": "code",
      "source": [
        "# Programme No :-2\n",
        "#Maximum of two numbers in Python\n",
        "a = int(input(\"Enter a number in a: \"))\n",
        "b = int(input(\"Enter a number in b: \"))\n",
        "if a>= b:\n",
        "  print (\"a is greater than b\")\n",
        "else:\n",
        "  print (\"b is greater than a\") "
      ],
      "metadata": {
        "colab": {
          "base_uri": "https://localhost:8080/"
        },
        "id": "lkvRL22rqdJH",
        "outputId": "8f79c1b7-614b-4441-ee41-1f8594bf4ab2"
      },
      "execution_count": 4,
      "outputs": [
        {
          "output_type": "stream",
          "name": "stdout",
          "text": [
            "Enter a number in a: 20\n",
            "Enter a number in b: 25\n",
            "b is greater than a\n"
          ]
        }
      ]
    },
    {
      "cell_type": "code",
      "source": [
        "maximum=max(a,b)\n",
        "print(\"max value is : \" , maximum)"
      ],
      "metadata": {
        "colab": {
          "base_uri": "https://localhost:8080/"
        },
        "id": "WrvEj2Ypw7C-",
        "outputId": "220ce26c-a9e2-4fd4-8ffd-905a30cb6673"
      },
      "execution_count": 6,
      "outputs": [
        {
          "output_type": "stream",
          "name": "stdout",
          "text": [
            "max value is :  25\n"
          ]
        }
      ]
    },
    {
      "cell_type": "code",
      "source": [
        "# Programme No :-3\n",
        "# Python Program for factorial of a number\n",
        "i = int(input(\"Factorial number is \"))\n",
        "fact = 1\n",
        "while (i>0):\n",
        "  fact = fact*i\n",
        "  i = i-1\n",
        "  print(\"factorial is: \", fact) "
      ],
      "metadata": {
        "colab": {
          "base_uri": "https://localhost:8080/"
        },
        "id": "Oxg2ARS4yxZv",
        "outputId": "f6e3c772-3e13-4d28-b394-159fa5895ee9"
      },
      "execution_count": 8,
      "outputs": [
        {
          "output_type": "stream",
          "name": "stdout",
          "text": [
            "Factorial number is 10\n",
            "factorial is:  10\n",
            "factorial is:  90\n",
            "factorial is:  720\n",
            "factorial is:  5040\n",
            "factorial is:  30240\n",
            "factorial is:  151200\n",
            "factorial is:  604800\n",
            "factorial is:  1814400\n",
            "factorial is:  3628800\n",
            "factorial is:  3628800\n"
          ]
        }
      ]
    },
    {
      "cell_type": "code",
      "source": [
        "num = int(input(\"Factorial number is \"))\n",
        "fact = 1\n",
        "a = 1\n",
        "while a<=num:\n",
        "  fact = fact *a\n",
        "  a = a+1\n",
        "  print(\"factorial of\",num,\"is\",fact)"
      ],
      "metadata": {
        "colab": {
          "base_uri": "https://localhost:8080/"
        },
        "id": "HCmAYdUH3c4u",
        "outputId": "93100d4d-be45-4e96-fa12-4969532bb94a"
      },
      "execution_count": 9,
      "outputs": [
        {
          "output_type": "stream",
          "name": "stdout",
          "text": [
            "Factorial number is 5\n",
            "factorial of 5 is 1\n",
            "factorial of 5 is 2\n",
            "factorial of 5 is 6\n",
            "factorial of 5 is 24\n",
            "factorial of 5 is 120\n"
          ]
        }
      ]
    },
    {
      "cell_type": "code",
      "source": [
        "# Programme No :-4\n",
        "#Python Program for simple interest\n",
        "p = int(input(\"enter principle\"))\n",
        "t = int(input(\"Enter time\"))\n",
        "r = int(input(\"Enter rate\"))\n",
        "si = p*t*r/100\n",
        "print(si)"
      ],
      "metadata": {
        "colab": {
          "base_uri": "https://localhost:8080/"
        },
        "id": "JMBuNwLGH2XG",
        "outputId": "c4f4b418-befa-4675-902a-a75e1ff11c7a"
      },
      "execution_count": 10,
      "outputs": [
        {
          "output_type": "stream",
          "name": "stdout",
          "text": [
            "enter principle10\n",
            "Enter time60\n",
            "Enter rate120\n",
            "720.0\n"
          ]
        }
      ]
    },
    {
      "cell_type": "code",
      "source": [
        "# Programme No :-5\n",
        "#Python Program for compound interest\n",
        "p = int(input(\"Enter principle \"))\n",
        "t = int(input(\"Enter time\"))\n",
        "r = int(input(\"Ennter rate \"))\n",
        "amount = p*(pow((1+r/100),t))\n",
        "ci = amount - p\n",
        "print (\" Compound intrest is :\", ci)"
      ],
      "metadata": {
        "colab": {
          "base_uri": "https://localhost:8080/"
        },
        "id": "6HVc-vN-LDlF",
        "outputId": "38cf0853-ade5-41a9-b700-6c17ba10f9b3"
      },
      "execution_count": 11,
      "outputs": [
        {
          "output_type": "stream",
          "name": "stdout",
          "text": [
            "Enter principle 100000\n",
            "Enter time1\n",
            "Ennter rate 3\n",
            " Compound intrest is : 3000.0\n"
          ]
        }
      ]
    }
  ]
}